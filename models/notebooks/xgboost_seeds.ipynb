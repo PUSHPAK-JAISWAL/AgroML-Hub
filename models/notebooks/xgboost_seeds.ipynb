{
 "cells": [
  {
   "cell_type": "code",
   "execution_count": 2,
   "id": "014359bd",
   "metadata": {},
   "outputs": [
    {
     "data": {
      "text/plain": [
       "'This notebook is to train XGBoost on wheat seeds prediction dataset'"
      ]
     },
     "execution_count": 2,
     "metadata": {},
     "output_type": "execute_result"
    }
   ],
   "source": [
    "\"\"\"This notebook is to train XGBoost on wheat seeds prediction dataset\"\"\""
   ]
  },
  {
   "cell_type": "code",
   "execution_count": 3,
   "id": "4a76525b",
   "metadata": {},
   "outputs": [],
   "source": [
    "import pandas as pd\n",
    "import numpy as np\n",
    "import matplotlib.pyplot as plt\n",
    "import joblib\n",
    "from sklearn.model_selection import train_test_split\n",
    "from sklearn.metrics import accuracy_score, classification_report\n",
    "import xgboost as xgb"
   ]
  },
  {
   "cell_type": "code",
   "execution_count": 4,
   "id": "504b81da",
   "metadata": {},
   "outputs": [
    {
     "name": "stdout",
     "output_type": "stream",
     "text": [
      "Data shape: (210, 8)\n"
     ]
    },
    {
     "data": {
      "text/html": [
       "<div>\n",
       "<style scoped>\n",
       "    .dataframe tbody tr th:only-of-type {\n",
       "        vertical-align: middle;\n",
       "    }\n",
       "\n",
       "    .dataframe tbody tr th {\n",
       "        vertical-align: top;\n",
       "    }\n",
       "\n",
       "    .dataframe thead th {\n",
       "        text-align: right;\n",
       "    }\n",
       "</style>\n",
       "<table border=\"1\" class=\"dataframe\">\n",
       "  <thead>\n",
       "    <tr style=\"text-align: right;\">\n",
       "      <th></th>\n",
       "      <th>Area</th>\n",
       "      <th>Perimeter</th>\n",
       "      <th>Compactness</th>\n",
       "      <th>length_of_kernel</th>\n",
       "      <th>width_of_kernel</th>\n",
       "      <th>asymetric_coef</th>\n",
       "      <th>length_of_kernel_groove</th>\n",
       "      <th>target</th>\n",
       "    </tr>\n",
       "  </thead>\n",
       "  <tbody>\n",
       "    <tr>\n",
       "      <th>0</th>\n",
       "      <td>15.26</td>\n",
       "      <td>14.84</td>\n",
       "      <td>0.8710</td>\n",
       "      <td>5.763</td>\n",
       "      <td>3.312</td>\n",
       "      <td>2.221</td>\n",
       "      <td>5.220</td>\n",
       "      <td>0</td>\n",
       "    </tr>\n",
       "    <tr>\n",
       "      <th>1</th>\n",
       "      <td>14.88</td>\n",
       "      <td>14.57</td>\n",
       "      <td>0.8811</td>\n",
       "      <td>5.554</td>\n",
       "      <td>3.333</td>\n",
       "      <td>1.018</td>\n",
       "      <td>4.956</td>\n",
       "      <td>0</td>\n",
       "    </tr>\n",
       "    <tr>\n",
       "      <th>2</th>\n",
       "      <td>14.29</td>\n",
       "      <td>14.09</td>\n",
       "      <td>0.9050</td>\n",
       "      <td>5.291</td>\n",
       "      <td>3.337</td>\n",
       "      <td>2.699</td>\n",
       "      <td>4.825</td>\n",
       "      <td>0</td>\n",
       "    </tr>\n",
       "    <tr>\n",
       "      <th>3</th>\n",
       "      <td>13.84</td>\n",
       "      <td>13.94</td>\n",
       "      <td>0.8955</td>\n",
       "      <td>5.324</td>\n",
       "      <td>3.379</td>\n",
       "      <td>2.259</td>\n",
       "      <td>4.805</td>\n",
       "      <td>0</td>\n",
       "    </tr>\n",
       "    <tr>\n",
       "      <th>4</th>\n",
       "      <td>16.14</td>\n",
       "      <td>14.99</td>\n",
       "      <td>0.9034</td>\n",
       "      <td>5.658</td>\n",
       "      <td>3.562</td>\n",
       "      <td>1.355</td>\n",
       "      <td>5.175</td>\n",
       "      <td>0</td>\n",
       "    </tr>\n",
       "  </tbody>\n",
       "</table>\n",
       "</div>"
      ],
      "text/plain": [
       "    Area  Perimeter  Compactness  length_of_kernel  width_of_kernel  \\\n",
       "0  15.26      14.84       0.8710             5.763            3.312   \n",
       "1  14.88      14.57       0.8811             5.554            3.333   \n",
       "2  14.29      14.09       0.9050             5.291            3.337   \n",
       "3  13.84      13.94       0.8955             5.324            3.379   \n",
       "4  16.14      14.99       0.9034             5.658            3.562   \n",
       "\n",
       "   asymetric_coef  length_of_kernel_groove  target  \n",
       "0           2.221                    5.220       0  \n",
       "1           1.018                    4.956       0  \n",
       "2           2.699                    4.825       0  \n",
       "3           2.259                    4.805       0  \n",
       "4           1.355                    5.175       0  "
      ]
     },
     "execution_count": 4,
     "metadata": {},
     "output_type": "execute_result"
    }
   ],
   "source": [
    "data = pd.read_csv('../datasets/Seed_Data.csv')\n",
    "print(\"Data shape:\", data.shape)\n",
    "data.head()"
   ]
  },
  {
   "cell_type": "code",
   "execution_count": 5,
   "id": "9fbedcb7",
   "metadata": {},
   "outputs": [
    {
     "name": "stdout",
     "output_type": "stream",
     "text": [
      "Column names: ['Area', 'Perimeter', 'Compactness', 'length_of_kernel', 'width_of_kernel', 'asymetric_coef', 'length_of_kernel_groove', 'target']\n",
      "Original data shape: (210, 8)\n"
     ]
    }
   ],
   "source": [
    "print(\"Column names:\", data.columns.tolist())\n",
    "print(\"Original data shape:\", data.shape)"
   ]
  },
  {
   "cell_type": "code",
   "execution_count": 6,
   "id": "d8ffdd38",
   "metadata": {},
   "outputs": [
    {
     "name": "stdout",
     "output_type": "stream",
     "text": [
      "Data shape after removing NaN: (210, 8)\n"
     ]
    }
   ],
   "source": [
    "data = data.dropna()\n",
    "print(\"Data shape after removing NaN:\", data.shape)\n"
   ]
  },
  {
   "cell_type": "code",
   "execution_count": 7,
   "id": "08d169f9",
   "metadata": {},
   "outputs": [
    {
     "name": "stdout",
     "output_type": "stream",
     "text": [
      "Missing values per column: Area                       0\n",
      "Perimeter                  0\n",
      "Compactness                0\n",
      "length_of_kernel           0\n",
      "width_of_kernel            0\n",
      "asymetric_coef             0\n",
      "length_of_kernel_groove    0\n",
      "target                     0\n",
      "dtype: int64\n"
     ]
    }
   ],
   "source": [
    "print(\"Missing values per column:\", data.isnull().sum())"
   ]
  },
  {
   "cell_type": "code",
   "execution_count": 8,
   "id": "6a812ad0",
   "metadata": {},
   "outputs": [
    {
     "name": "stdout",
     "output_type": "stream",
     "text": [
      "Feature matrix shape: (210, 7)\n",
      "Target shape: (210,)\n",
      "Target classes: [np.int64(0), np.int64(1), np.int64(2)]\n"
     ]
    }
   ],
   "source": [
    "X = data.drop(columns=[\"target\"])\n",
    "y = data[\"target\"]\n",
    "\n",
    "print(\"Feature matrix shape:\", X.shape)\n",
    "print(\"Target shape:\", y.shape)\n",
    "print(\"Target classes:\", sorted(y.unique()))"
   ]
  },
  {
   "cell_type": "code",
   "execution_count": 9,
   "id": "56f56de4",
   "metadata": {},
   "outputs": [
    {
     "name": "stdout",
     "output_type": "stream",
     "text": [
      "\n",
      "Feature data types:\n",
      "Area                       float64\n",
      "Perimeter                  float64\n",
      "Compactness                float64\n",
      "length_of_kernel           float64\n",
      "width_of_kernel            float64\n",
      "asymetric_coef             float64\n",
      "length_of_kernel_groove    float64\n",
      "dtype: object\n",
      "\n",
      "Target data type: int64\n"
     ]
    }
   ],
   "source": [
    "print(\"\\nFeature data types:\")\n",
    "print(X.dtypes)\n",
    "print(\"\\nTarget data type:\", y.dtype)\n"
   ]
  },
  {
   "cell_type": "code",
   "execution_count": 10,
   "id": "bfd0e3fb",
   "metadata": {},
   "outputs": [
    {
     "name": "stdout",
     "output_type": "stream",
     "text": [
      "\n",
      "Feature statistics:\n",
      "             Area   Perimeter  Compactness  length_of_kernel  width_of_kernel  \\\n",
      "count  210.000000  210.000000   210.000000        210.000000       210.000000   \n",
      "mean    14.847524   14.559286     0.870999          5.628533         3.258605   \n",
      "std      2.909699    1.305959     0.023629          0.443063         0.377714   \n",
      "min     10.590000   12.410000     0.808100          4.899000         2.630000   \n",
      "25%     12.270000   13.450000     0.856900          5.262250         2.944000   \n",
      "50%     14.355000   14.320000     0.873450          5.523500         3.237000   \n",
      "75%     17.305000   15.715000     0.887775          5.979750         3.561750   \n",
      "max     21.180000   17.250000     0.918300          6.675000         4.033000   \n",
      "\n",
      "       asymetric_coef  length_of_kernel_groove  \n",
      "count      210.000000               210.000000  \n",
      "mean         3.700201                 5.408071  \n",
      "std          1.503557                 0.491480  \n",
      "min          0.765100                 4.519000  \n",
      "25%          2.561500                 5.045000  \n",
      "50%          3.599000                 5.223000  \n",
      "75%          4.768750                 5.877000  \n",
      "max          8.456000                 6.550000  \n"
     ]
    }
   ],
   "source": [
    "print(\"\\nFeature statistics:\")\n",
    "print(X.describe())\n",
    "\n",
    "# Split the data into training and testing sets\n",
    "X_train, X_test, y_train, y_test = train_test_split(\n",
    "    X, y, test_size=0.2, random_state=42, stratify=y\n",
    ")"
   ]
  },
  {
   "cell_type": "code",
   "execution_count": 11,
   "id": "8e8c3025",
   "metadata": {},
   "outputs": [
    {
     "name": "stdout",
     "output_type": "stream",
     "text": [
      "Training set shape: (168, 7)\n",
      "Test set shape: (42, 7)\n",
      "Training target distribution: target\n",
      "0    56\n",
      "1    56\n",
      "2    56\n",
      "Name: count, dtype: int64\n",
      "Test target distribution: target\n",
      "0    14\n",
      "1    14\n",
      "2    14\n",
      "Name: count, dtype: int64\n"
     ]
    }
   ],
   "source": [
    "print(\"Training set shape:\", X_train.shape)\n",
    "print(\"Test set shape:\", X_test.shape)\n",
    "print(\"Training target distribution:\", y_train.value_counts().sort_index())\n",
    "print(\"Test target distribution:\", y_test.value_counts().sort_index())"
   ]
  },
  {
   "cell_type": "code",
   "execution_count": 26,
   "id": "3255d4a2",
   "metadata": {},
   "outputs": [
    {
     "name": "stdout",
     "output_type": "stream",
     "text": [
      "Training XGBoost model...\n"
     ]
    }
   ],
   "source": [
    "print(\"Training XGBoost model...\")\n",
    "xgb_model = xgb.XGBClassifier(\n",
    "    objective='multi:softprob',\n",
    "    learning_rate=0.1,\n",
    "    n_estimators=10000,        # Big upper bound (acts as max)\n",
    "    subsample=0.8,\n",
    "    colsample_bytree=0.8,\n",
    "    random_state=42,\n",
    "    eval_metric='mlogloss',\n",
    "    early_stopping_rounds=50,\n",
    "    verbosity=1\n",
    ")"
   ]
  },
  {
   "cell_type": "code",
   "execution_count": 27,
   "id": "a194e3ff",
   "metadata": {},
   "outputs": [
    {
     "name": "stdout",
     "output_type": "stream",
     "text": [
      "[0]\tvalidation_0-mlogloss:0.98007\tvalidation_1-mlogloss:0.99163\n",
      "[1]\tvalidation_0-mlogloss:0.87443\tvalidation_1-mlogloss:0.90796\n",
      "[2]\tvalidation_0-mlogloss:0.78432\tvalidation_1-mlogloss:0.82568\n",
      "[3]\tvalidation_0-mlogloss:0.70574\tvalidation_1-mlogloss:0.75518\n",
      "[4]\tvalidation_0-mlogloss:0.63985\tvalidation_1-mlogloss:0.69240\n",
      "[5]\tvalidation_0-mlogloss:0.58275\tvalidation_1-mlogloss:0.64319\n",
      "[6]\tvalidation_0-mlogloss:0.53193\tvalidation_1-mlogloss:0.60242\n",
      "[7]\tvalidation_0-mlogloss:0.48444\tvalidation_1-mlogloss:0.56956\n"
     ]
    },
    {
     "name": "stdout",
     "output_type": "stream",
     "text": [
      "[8]\tvalidation_0-mlogloss:0.44328\tvalidation_1-mlogloss:0.52962\n",
      "[9]\tvalidation_0-mlogloss:0.40629\tvalidation_1-mlogloss:0.49649\n",
      "[10]\tvalidation_0-mlogloss:0.37286\tvalidation_1-mlogloss:0.47093\n",
      "[11]\tvalidation_0-mlogloss:0.34228\tvalidation_1-mlogloss:0.44650\n",
      "[12]\tvalidation_0-mlogloss:0.31632\tvalidation_1-mlogloss:0.42427\n",
      "[13]\tvalidation_0-mlogloss:0.29093\tvalidation_1-mlogloss:0.40637\n",
      "[14]\tvalidation_0-mlogloss:0.26872\tvalidation_1-mlogloss:0.39028\n",
      "[15]\tvalidation_0-mlogloss:0.24909\tvalidation_1-mlogloss:0.37056\n",
      "[16]\tvalidation_0-mlogloss:0.23020\tvalidation_1-mlogloss:0.35682\n",
      "[17]\tvalidation_0-mlogloss:0.21354\tvalidation_1-mlogloss:0.34828\n",
      "[18]\tvalidation_0-mlogloss:0.19901\tvalidation_1-mlogloss:0.33541\n",
      "[19]\tvalidation_0-mlogloss:0.18565\tvalidation_1-mlogloss:0.32587\n",
      "[20]\tvalidation_0-mlogloss:0.17297\tvalidation_1-mlogloss:0.31963\n",
      "[21]\tvalidation_0-mlogloss:0.16150\tvalidation_1-mlogloss:0.31403\n",
      "[22]\tvalidation_0-mlogloss:0.15162\tvalidation_1-mlogloss:0.30512\n",
      "[23]\tvalidation_0-mlogloss:0.14195\tvalidation_1-mlogloss:0.29848\n",
      "[24]\tvalidation_0-mlogloss:0.13348\tvalidation_1-mlogloss:0.29232\n",
      "[25]\tvalidation_0-mlogloss:0.12562\tvalidation_1-mlogloss:0.28931\n",
      "[26]\tvalidation_0-mlogloss:0.11823\tvalidation_1-mlogloss:0.28299\n",
      "[27]\tvalidation_0-mlogloss:0.11137\tvalidation_1-mlogloss:0.28019\n",
      "[28]\tvalidation_0-mlogloss:0.10515\tvalidation_1-mlogloss:0.28033\n",
      "[29]\tvalidation_0-mlogloss:0.09907\tvalidation_1-mlogloss:0.27200\n",
      "[30]\tvalidation_0-mlogloss:0.09397\tvalidation_1-mlogloss:0.26867\n",
      "[31]\tvalidation_0-mlogloss:0.08960\tvalidation_1-mlogloss:0.26831\n",
      "[32]\tvalidation_0-mlogloss:0.08517\tvalidation_1-mlogloss:0.26479\n",
      "[33]\tvalidation_0-mlogloss:0.08115\tvalidation_1-mlogloss:0.26073\n",
      "[34]\tvalidation_0-mlogloss:0.07753\tvalidation_1-mlogloss:0.25802\n",
      "[35]\tvalidation_0-mlogloss:0.07368\tvalidation_1-mlogloss:0.25876\n",
      "[36]\tvalidation_0-mlogloss:0.07014\tvalidation_1-mlogloss:0.25327\n",
      "[37]\tvalidation_0-mlogloss:0.06713\tvalidation_1-mlogloss:0.25283\n",
      "[38]\tvalidation_0-mlogloss:0.06435\tvalidation_1-mlogloss:0.25395\n",
      "[39]\tvalidation_0-mlogloss:0.06116\tvalidation_1-mlogloss:0.25279\n",
      "[40]\tvalidation_0-mlogloss:0.05846\tvalidation_1-mlogloss:0.25107\n",
      "[41]\tvalidation_0-mlogloss:0.05631\tvalidation_1-mlogloss:0.25188\n",
      "[42]\tvalidation_0-mlogloss:0.05429\tvalidation_1-mlogloss:0.25219\n",
      "[43]\tvalidation_0-mlogloss:0.05247\tvalidation_1-mlogloss:0.25124\n",
      "[44]\tvalidation_0-mlogloss:0.05061\tvalidation_1-mlogloss:0.25170\n",
      "[45]\tvalidation_0-mlogloss:0.04878\tvalidation_1-mlogloss:0.25360\n",
      "[46]\tvalidation_0-mlogloss:0.04707\tvalidation_1-mlogloss:0.25412\n",
      "[47]\tvalidation_0-mlogloss:0.04572\tvalidation_1-mlogloss:0.25426\n",
      "[48]\tvalidation_0-mlogloss:0.04444\tvalidation_1-mlogloss:0.25502\n",
      "[49]\tvalidation_0-mlogloss:0.04308\tvalidation_1-mlogloss:0.25500\n",
      "[50]\tvalidation_0-mlogloss:0.04191\tvalidation_1-mlogloss:0.25536\n",
      "[51]\tvalidation_0-mlogloss:0.04053\tvalidation_1-mlogloss:0.25713\n",
      "[52]\tvalidation_0-mlogloss:0.03934\tvalidation_1-mlogloss:0.25713\n",
      "[53]\tvalidation_0-mlogloss:0.03818\tvalidation_1-mlogloss:0.25744\n",
      "[54]\tvalidation_0-mlogloss:0.03723\tvalidation_1-mlogloss:0.25394\n",
      "[55]\tvalidation_0-mlogloss:0.03628\tvalidation_1-mlogloss:0.25411\n",
      "[56]\tvalidation_0-mlogloss:0.03524\tvalidation_1-mlogloss:0.25209\n",
      "[57]\tvalidation_0-mlogloss:0.03455\tvalidation_1-mlogloss:0.25117\n",
      "[58]\tvalidation_0-mlogloss:0.03370\tvalidation_1-mlogloss:0.25112\n",
      "[59]\tvalidation_0-mlogloss:0.03287\tvalidation_1-mlogloss:0.25347\n",
      "[60]\tvalidation_0-mlogloss:0.03224\tvalidation_1-mlogloss:0.25323\n",
      "[61]\tvalidation_0-mlogloss:0.03157\tvalidation_1-mlogloss:0.25198\n",
      "[62]\tvalidation_0-mlogloss:0.03090\tvalidation_1-mlogloss:0.25282\n",
      "[63]\tvalidation_0-mlogloss:0.03025\tvalidation_1-mlogloss:0.25447\n",
      "[64]\tvalidation_0-mlogloss:0.02952\tvalidation_1-mlogloss:0.25570\n",
      "[65]\tvalidation_0-mlogloss:0.02903\tvalidation_1-mlogloss:0.25428\n",
      "[66]\tvalidation_0-mlogloss:0.02848\tvalidation_1-mlogloss:0.25617\n",
      "[67]\tvalidation_0-mlogloss:0.02800\tvalidation_1-mlogloss:0.25398\n",
      "[68]\tvalidation_0-mlogloss:0.02764\tvalidation_1-mlogloss:0.25354\n",
      "[69]\tvalidation_0-mlogloss:0.02725\tvalidation_1-mlogloss:0.25405\n",
      "[70]\tvalidation_0-mlogloss:0.02686\tvalidation_1-mlogloss:0.25442\n",
      "[71]\tvalidation_0-mlogloss:0.02642\tvalidation_1-mlogloss:0.25570\n",
      "[72]\tvalidation_0-mlogloss:0.02611\tvalidation_1-mlogloss:0.25597\n",
      "[73]\tvalidation_0-mlogloss:0.02581\tvalidation_1-mlogloss:0.25459\n",
      "[74]\tvalidation_0-mlogloss:0.02542\tvalidation_1-mlogloss:0.25305\n",
      "[75]\tvalidation_0-mlogloss:0.02517\tvalidation_1-mlogloss:0.25503\n",
      "[76]\tvalidation_0-mlogloss:0.02481\tvalidation_1-mlogloss:0.25520\n",
      "[77]\tvalidation_0-mlogloss:0.02453\tvalidation_1-mlogloss:0.25623\n",
      "[78]\tvalidation_0-mlogloss:0.02423\tvalidation_1-mlogloss:0.25575\n",
      "[79]\tvalidation_0-mlogloss:0.02396\tvalidation_1-mlogloss:0.25534\n",
      "[80]\tvalidation_0-mlogloss:0.02369\tvalidation_1-mlogloss:0.25493\n",
      "[81]\tvalidation_0-mlogloss:0.02338\tvalidation_1-mlogloss:0.25488\n",
      "[82]\tvalidation_0-mlogloss:0.02309\tvalidation_1-mlogloss:0.25520\n",
      "[83]\tvalidation_0-mlogloss:0.02279\tvalidation_1-mlogloss:0.25412\n",
      "[84]\tvalidation_0-mlogloss:0.02249\tvalidation_1-mlogloss:0.25549\n",
      "[85]\tvalidation_0-mlogloss:0.02227\tvalidation_1-mlogloss:0.25528\n",
      "[86]\tvalidation_0-mlogloss:0.02208\tvalidation_1-mlogloss:0.25473\n",
      "[87]\tvalidation_0-mlogloss:0.02196\tvalidation_1-mlogloss:0.25481\n",
      "[88]\tvalidation_0-mlogloss:0.02175\tvalidation_1-mlogloss:0.25531\n",
      "[89]\tvalidation_0-mlogloss:0.02153\tvalidation_1-mlogloss:0.25473\n",
      "✅ XGBoost model training completed!\n"
     ]
    }
   ],
   "source": [
    "xgb_model.fit(X_train, y_train,\n",
    "eval_set = [(X_train, y_train), (X_test, y_test)],\n",
    "verbose=True\n",
    ")\n",
    "print(\"✅ XGBoost model training completed!\")"
   ]
  },
  {
   "cell_type": "code",
   "execution_count": 28,
   "id": "bbd13dcb",
   "metadata": {},
   "outputs": [
    {
     "name": "stdout",
     "output_type": "stream",
     "text": [
      "Making predictions...\n"
     ]
    }
   ],
   "source": [
    "print(\"Making predictions...\")\n",
    "y_pred = xgb_model.predict(X_test)"
   ]
  },
  {
   "cell_type": "code",
   "execution_count": 30,
   "id": "6d60c033",
   "metadata": {},
   "outputs": [
    {
     "name": "stdout",
     "output_type": "stream",
     "text": [
      "Accuracy: 0.8810\n",
      "\n",
      "Classification Report:\n",
      "              precision    recall  f1-score   support\n",
      "\n",
      "           0       1.00      0.64      0.78        14\n",
      "           1       0.88      1.00      0.93        14\n",
      "           2       0.82      1.00      0.90        14\n",
      "\n",
      "    accuracy                           0.88        42\n",
      "   macro avg       0.90      0.88      0.87        42\n",
      "weighted avg       0.90      0.88      0.87        42\n",
      "\n"
     ]
    }
   ],
   "source": [
    "accuracy = accuracy_score(y_test, y_pred)\n",
    "print(f\"Accuracy: {accuracy:.4f}\")\n",
    "print(\"\\nClassification Report:\")\n",
    "print(classification_report(y_test, y_pred))\n"
   ]
  },
  {
   "cell_type": "code",
   "execution_count": 32,
   "id": "e8779d1c",
   "metadata": {},
   "outputs": [
    {
     "name": "stdout",
     "output_type": "stream",
     "text": [
      "Generating feature importance plot...\n"
     ]
    }
   ],
   "source": [
    "print(\"Generating feature importance plot...\")\n",
    "importances = xgb_model.feature_importances_\n",
    "indices = np.argsort(importances)[::-1]"
   ]
  },
  {
   "cell_type": "code",
   "execution_count": 33,
   "id": "cb74444b",
   "metadata": {},
   "outputs": [
    {
     "data": {
      "image/png": "[encoded data removed]",
      "text/plain": [
       "<Figure size 1200x800 with 1 Axes>"
      ]
     },
     "metadata": {},
     "output_type": "display_data"
    }
   ],
   "source": [
    "k = min(20, len(importances))\n",
    "\n",
    "plt.figure(figsize=(12, 8))\n",
    "plt.title(\"XGBoost Feature Importances - Wheat Seeds Dataset\", fontsize=16, fontweight='bold')\n",
    "plt.bar(range(k), importances[indices[:k]], align=\"center\", alpha=0.7, color='lightcoral')\n",
    "plt.xticks(range(k), X.columns[indices[:k]], rotation=45, ha='right')\n",
    "plt.xlabel('Features', fontsize=12)\n",
    "plt.ylabel('Importance', fontsize=12)\n",
    "plt.tight_layout()\n",
    "plt.show()"
   ]
  },
  {
   "cell_type": "code",
   "execution_count": 34,
   "id": "e6dab15e",
   "metadata": {},
   "outputs": [
    {
     "name": "stdout",
     "output_type": "stream",
     "text": [
      "\n",
      "Feature Importance Ranking:\n",
      " 1. Area                 0.2841\n",
      " 2. Perimeter            0.2124\n",
      " 3. length_of_kernel_groove 0.1948\n",
      " 4. length_of_kernel     0.1036\n",
      " 5. asymetric_coef       0.0988\n",
      " 6. width_of_kernel      0.0749\n",
      " 7. Compactness          0.0314\n"
     ]
    }
   ],
   "source": [
    "print(\"\\nFeature Importance Ranking:\")\n",
    "for i in range(len(importances)):\n",
    "    feature_idx = indices[i]\n",
    "    print(f\"{i+1:2d}. {X.columns[feature_idx]:<20} {importances[feature_idx]:.4f}\")\n"
   ]
  },
  {
   "cell_type": "code",
   "execution_count": 35,
   "id": "b4c74712",
   "metadata": {},
   "outputs": [
    {
     "name": "stdout",
     "output_type": "stream",
     "text": [
      "\n",
      "Sample Predictions:\n",
      "Predictions: [0, 2, 1, 2, 1]\n",
      "Actual: [0, 2, 1, 2, 1]\n"
     ]
    }
   ],
   "source": [
    "print(\"\\nSample Predictions:\")\n",
    "sample = X_test.head()\n",
    "sample_predictions = xgb_model.predict(sample)\n",
    "sample_probabilities = xgb_model.predict_proba(sample)\n",
    "\n",
    "print(\"Predictions:\", sample_predictions.tolist())\n",
    "print(\"Actual:\", y_test.head().tolist())"
   ]
  },
  {
   "cell_type": "code",
   "execution_count": 36,
   "id": "7cf9050d",
   "metadata": {},
   "outputs": [
    {
     "name": "stdout",
     "output_type": "stream",
     "text": [
      "\n",
      "Prediction Probabilities:\n",
      "Sample 1: Predicted class 0\n",
      "  Class 0: 0.967\n",
      "  Class 1: 0.019\n",
      "  Class 2: 0.014\n",
      "\n",
      "Sample 2: Predicted class 2\n",
      "  Class 0: 0.026\n",
      "  Class 1: 0.014\n",
      "  Class 2: 0.961\n",
      "\n",
      "Sample 3: Predicted class 1\n",
      "  Class 0: 0.179\n",
      "  Class 1: 0.801\n",
      "  Class 2: 0.020\n",
      "\n",
      "Sample 4: Predicted class 2\n",
      "  Class 0: 0.013\n",
      "  Class 1: 0.010\n",
      "  Class 2: 0.977\n",
      "\n",
      "Sample 5: Predicted class 1\n",
      "  Class 0: 0.013\n",
      "  Class 1: 0.977\n",
      "  Class 2: 0.010\n",
      "\n"
     ]
    }
   ],
   "source": [
    "print(\"\\nPrediction Probabilities:\")\n",
    "class_labels = sorted(y.unique())\n",
    "for i, (pred, prob) in enumerate(zip(sample_predictions, sample_probabilities)):\n",
    "    print(f\"Sample {i+1}: Predicted class {pred}\")\n",
    "    for j, class_label in enumerate(class_labels):\n",
    "        print(f\"  Class {class_label}: {prob[j]:.3f}\")\n",
    "    print()\n",
    "\n",
    "# Save everything in a single file\n",
    "model_package = {\n",
    "    'model': xgb_model,\n",
    "    'feature_columns': X.columns.tolist(),\n",
    "    'target_classes': sorted(y.unique()),\n",
    "    'model_type': 'XGBoost',\n",
    "    'accuracy': accuracy,\n",
    "    'dataset': 'Wheat Seeds',\n",
    "    'feature_importances': dict(zip(X.columns, importances))\n",
    "}"
   ]
  },
  {
   "cell_type": "code",
   "execution_count": 37,
   "id": "ab82e2df",
   "metadata": {},
   "outputs": [
    {
     "name": "stdout",
     "output_type": "stream",
     "text": [
      "✅ Complete model package saved as xgboost_wheat_seeds_complete.pkl\n",
      "Package contains: model, feature_columns, target_classes, model_type, accuracy, dataset, feature_importances\n"
     ]
    }
   ],
   "source": [
    "model_filename = \"xgboost_wheat_seeds_complete.pkl\"\n",
    "joblib.dump(model_package, model_filename)\n",
    "print(f\"✅ Complete model package saved as {model_filename}\")\n",
    "print(\"Package contains: model, feature_columns, target_classes, model_type, accuracy, dataset, feature_importances\")\n"
   ]
  },
  {
   "cell_type": "code",
   "execution_count": 38,
   "id": "294970e4",
   "metadata": {},
   "outputs": [
    {
     "name": "stdout",
     "output_type": "stream",
     "text": [
      "\n",
      "============================================================\n",
      "XGBoost Wheat Seeds Classification - Training Summary\n",
      "============================================================\n",
      "Final Accuracy: 0.8810\n",
      "Training samples: 168\n",
      "Test samples: 42\n",
      "Number of features: 7\n",
      "Number of classes: 3\n",
      "Classes: [np.int64(0), np.int64(1), np.int64(2)]\n",
      "Model package saved: xgboost_wheat_seeds_complete.pkl\n",
      "============================================================\n"
     ]
    }
   ],
   "source": [
    "print(\"\\n\" + \"=\"*60)\n",
    "print(\"XGBoost Wheat Seeds Classification - Training Summary\")\n",
    "print(\"=\"*60)\n",
    "print(f\"Final Accuracy: {accuracy:.4f}\")\n",
    "print(f\"Training samples: {X_train.shape[0]}\")\n",
    "print(f\"Test samples: {X_test.shape[0]}\")\n",
    "print(f\"Number of features: {X_train.shape[1]}\")\n",
    "print(f\"Number of classes: {len(class_labels)}\")\n",
    "print(f\"Classes: {class_labels}\")\n",
    "print(f\"Model package saved: {model_filename}\")\n",
    "print(\"=\"*60)"
   ]
  },
  {
   "cell_type": "code",
   "execution_count": null,
   "id": "720fcc87",
   "metadata": {},
   "outputs": [],
   "source": []
  }
 ],
 "metadata": {
  "kernelspec": {
   "display_name": "models",
   "language": "python",
   "name": "python3"
  },
  "language_info": {
   "codemirror_mode": {
    "name": "ipython",
    "version": 3
   },
   "file_extension": ".py",
   "mimetype": "text/x-python",
   "name": "python",
   "nbconvert_exporter": "python",
   "pygments_lexer": "ipython3",
   "version": "3.12.7"
  }
 },
 "nbformat": 4,
 "nbformat_minor": 5
}
